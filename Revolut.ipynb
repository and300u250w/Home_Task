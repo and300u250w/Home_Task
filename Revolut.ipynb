{
 "cells": [
  {
   "cell_type": "markdown",
   "metadata": {},
   "source": [
    "# Revolut Financial Crime Challenge\n",
    "## Home Task"
   ]
  },
  {
   "cell_type": "markdown",
   "metadata": {},
   "source": [
    "# TASK 1.a - Communication and SQL familiarity"
   ]
  },
  {
   "cell_type": "markdown",
   "metadata": {},
   "source": [
    "#### Examine the following SQL query, and explain clearly and succinctly what it means. Will the query work? Explain why or why not. (15 points)"
   ]
  },
  {
   "cell_type": "markdown",
   "metadata": {},
   "source": [
    "```SQL\n",
    "WITH processed_users AS (\n",
    "SELECT left(u.phone_country, 2) AS short_phone_country, u.id \n",
    "FROM users u\n",
    ")\n",
    "SELECT t.user_id, \n",
    "t.merchant_country, \n",
    "sum(t.amount / fx.rate / power(10, cd.exponent)) AS amount \n",
    "FROM transactions t\n",
    "JOIN fx_rates fx ON (fx.ccy = t.currency AND fx.base_ccy = 'EUR')\n",
    "JOIN currency_details cd ON cd.currency = t.currency\n",
    "JOIN processed_users pu ON pu.id = t.user_id\n",
    "WHERE t.source = 'GAIA'\n",
    "AND pu.short_phone_country = t.merchant_country\n",
    "GROUP BY t.user_id, t.merchant_country\n",
    "\n",
    "ORDER BY amount DESC;```"
   ]
  },
  {
   "cell_type": "markdown",
   "metadata": {},
   "source": [
    "<img src=\"Screenshot%202019-03-13%20at%2000.07.06.png\" width=\"800\" />"
   ]
  },
  {
   "cell_type": "markdown",
   "metadata": {},
   "source": [
    "**Examine the following SQL query, and explain clearly and succinctly what it means:**"
   ]
  },
  {
   "cell_type": "markdown",
   "metadata": {},
   "source": [
    "The Query is showing how much money in total customers are spending in different Merchant Countries. To standardise output, all transactions were converted to EUR."
   ]
  },
  {
   "cell_type": "markdown",
   "metadata": {},
   "source": [
    "**Will the query work? Explain why or why not.**\n",
    "___\n",
    "\n",
    "The code above is not working due to this line -> **AND pu.short_phone_country = t.merchant_country**. Compared values are in different formats and that is why result is empty.\n",
    "\n",
    "> pu.short_phone_country  -> **varchar(2)**, ex. HU\n",
    "\n",
    "> t.merchant_country -> **varchar(3)**, ex. HUN\n",
    "\n",
    "\n",
    "The solution for this mistake will be aligning Merchant country code to Phone country code by modifying the string:\n",
    "\n",
    "> Instead of **AND pu.short_phone_country = t.merchant_country** should be **AND pu.short_phone_country = left(t.\"MERCHANT_COUNTRY\",2)**\n",
    "\n",
    "***\n",
    "Additionally, calculation for exchange rate is wrong as well:\n",
    "\n",
    ">Incorrect code - **sum(t.\"AMOUNT\" / fx.rate / power(10, cd.exponent)) AS amount**\n",
    "\n",
    ">Correct code - **sum(t.\"AMOUNT\" * fx.rate / power(10, cd.exponent)) AS amount** \n",
    "\n"
   ]
  },
  {
   "cell_type": "markdown",
   "metadata": {},
   "source": [
    "<img src=\"Screenshot%202019-03-13%20at%2000.09.05.png\" width=\"800\" />"
   ]
  },
  {
   "cell_type": "markdown",
   "metadata": {},
   "source": [
    "```SQL\n",
    "WITH processed_users AS (\n",
    "SELECT left(u.\"PHONE_COUNTRY\", 2) AS \n",
    "short_phone_country, u.\"ID\"\n",
    "FROM users u)\n",
    "SELECT t.\"USER_ID\",\n",
    "t.\"MERCHANT_COUNTRY\",\n",
    "sum(t.\"AMOUNT\" * fx.\"rate\" / power(10, cd.exponent)) AS amount\n",
    "FROM transactions t\n",
    "JOIN fx_rates fx ON (fx.ccy = t.\"CURRENCY\" AND fx.base_ccy = 'EUR')\n",
    "JOIN currency_details cd ON cd.ccy = t.\"CURRENCY\"\n",
    "JOIN processed_users pu ON pu.\"ID\" = t.\"USER_ID\"\n",
    "WHERE t.\"SOURCE\" = 'GAIA'\n",
    "AND pu.short_phone_country = left(t.\"MERCHANT_COUNTRY\",2)\n",
    "GROUP BY t.\"USER_ID\", t.\"MERCHANT_COUNTRY\"\n",
    "ORDER BY amount DESC; ```"
   ]
  },
  {
   "cell_type": "markdown",
   "metadata": {},
   "source": [
    "##### Output result from query above:"
   ]
  },
  {
   "cell_type": "markdown",
   "metadata": {},
   "source": [
    "<img src=\"Task%201%20results.png\" width=\"800\" />"
   ]
  },
  {
   "cell_type": "markdown",
   "metadata": {},
   "source": [
    "# TASK 1.b - Communication and SQL familiarity"
   ]
  },
  {
   "cell_type": "markdown",
   "metadata": {},
   "source": [
    "#### Now it’s your turn! Write a query to identify users whose first transaction was a successful card payment over $10 USD equivalent (10 points)"
   ]
  },
  {
   "cell_type": "markdown",
   "metadata": {},
   "source": [
    "### Correct SQL Query:\n",
    "___"
   ]
  },
  {
   "cell_type": "markdown",
   "metadata": {},
   "source": [
    "```SQL\n",
    "SELECT *\n",
    "FROM (\n",
    "SELECT DISTINCT ON (tr.\"USER_ID\")\n",
    "\ttr.\"USER_ID\", tr.\"CURRENCY\", tr.\"AMOUNT\", \n",
    "\tCASE WHEN fx.ccy = tr.\"CURRENCY\" THEN tr.\"AMOUNT\"*fx.rate / power(10, cd.exponent) END AS \"AMOUNT_IN_USD\",\n",
    "\ttr.\"CREATED_DATE\" as \"Date_of_First_Transaction\"\n",
    "FROM Public.fx_rates AS fx\n",
    "INNER JOIN transactions as tr ON tr.\"CURRENCY\" = fx.ccy\n",
    "JOIN currency_details cd ON cd.ccy = tr.\"CURRENCY\"\n",
    "WHERE base_ccy = 'USD' \n",
    "    AND tr.\"TYPE\" = 'CARD_PAYMENT' \n",
    "    AND tr.\"STATE\" = 'COMPLETED' \n",
    "ORDER BY tr.\"USER_ID\", tr.\"CREATED_DATE\" ASC) T\n",
    "WHERE \"AMOUNT_IN_USD\" >10;\n",
    "```"
   ]
  },
  {
   "cell_type": "markdown",
   "metadata": {},
   "source": [
    "The query is showing additional columns as a proof that first transaction was made above $10"
   ]
  },
  {
   "cell_type": "markdown",
   "metadata": {},
   "source": [
    "<img src=\"Task2.png\" width=\"800\" />"
   ]
  },
  {
   "cell_type": "markdown",
   "metadata": {},
   "source": [
    "### Other solution using Python and pandas library\n",
    "___"
   ]
  },
  {
   "cell_type": "code",
   "execution_count": 1,
   "metadata": {},
   "outputs": [],
   "source": [
    "#importing pandas library\n",
    "import pandas as pd"
   ]
  },
  {
   "cell_type": "code",
   "execution_count": 2,
   "metadata": {},
   "outputs": [],
   "source": [
    "#loading all csv files using pandas\n",
    "currency_details = pd.read_csv('./currency_details.csv')\n",
    "fx_rates = pd.read_csv('./fx_rates.csv')\n",
    "transactions = pd.read_csv('./transactions.csv',index_col=0)"
   ]
  },
  {
   "cell_type": "code",
   "execution_count": 3,
   "metadata": {},
   "outputs": [],
   "source": [
    "#Merging fx_rates and currency_details tables\n",
    "fx_rates_exponent = pd.merge(fx_rates, currency_details, how='inner', left_on=\"ccy\", right_on='currency')"
   ]
  },
  {
   "cell_type": "code",
   "execution_count": 4,
   "metadata": {},
   "outputs": [],
   "source": [
    "#taking ex_rate for USD vs other currencies and dropping out unused columns\n",
    "rates_in_usd = fx_rates_exponent[fx_rates_exponent['base_ccy']=='USD'].drop(['currency','iso_code','is_crypto','base_ccy'],axis=1)\n",
    "\n",
    "#Merging transactions and rates_in_usd tables\n",
    "merged_trans = pd.merge(transactions, rates_in_usd, how='inner', left_on='CURRENCY', right_on='ccy')\n",
    "\n",
    "#Creating new column \"Amount in USD\" and applying function Amount * ex_rate / 10**exponent\n",
    "merged_trans['Amount_in_USD'] = merged_trans['AMOUNT']*merged_trans['rate']/10**merged_trans['exponent']\n",
    "\n",
    "#Sorting data by status Completed and by Card Payment\n",
    "merged_trans = merged_trans[(merged_trans['STATE'] ==\"COMPLETED\") & (merged_trans['TYPE'] == 'CARD_PAYMENT')]\n"
   ]
  },
  {
   "cell_type": "code",
   "execution_count": 5,
   "metadata": {},
   "outputs": [],
   "source": [
    "merged_trans = merged_trans.sort_values(by = ['USER_ID','CREATED_DATE'],ascending=True ).drop_duplicates(subset = 'USER_ID', keep='first')\n",
    "users_with_10USD_trans = merged_trans[merged_trans['Amount_in_USD']>10]\n"
   ]
  },
  {
   "cell_type": "code",
   "execution_count": 6,
   "metadata": {},
   "outputs": [
    {
     "data": {
      "text/plain": [
       "51249     001926be-3245-43fa-86dd-b40ee160b6f9\n",
       "158567    0022f893-47c7-4da0-96df-7ea564bfd50d\n",
       "639520    002ad534-53c5-4320-a199-45a2b0a9265a\n",
       "141862    0031da48-f009-4fde-8288-e8ec96726b0b\n",
       "643007    0046245a-e756-42f9-a500-6512dfc1867b\n",
       "Name: USER_ID, dtype: object"
      ]
     },
     "execution_count": 6,
     "metadata": {},
     "output_type": "execute_result"
    }
   ],
   "source": [
    "#Printing result of first 5 USER_ID of customers with first successful Card transaction over $10\n",
    "users_with_10USD_trans.USER_ID.head(5)"
   ]
  },
  {
   "cell_type": "code",
   "execution_count": 8,
   "metadata": {},
   "outputs": [
    {
     "name": "stdout",
     "output_type": "stream",
     "text": [
      "3173 Customers had first transaction over $10\n"
     ]
    }
   ],
   "source": [
    "print(f'{users_with_10USD_trans.USER_ID.size} Customers had first transaction over $10')"
   ]
  },
  {
   "cell_type": "markdown",
   "metadata": {},
   "source": [
    "## To save results into csv file use comand below"
   ]
  },
  {
   "cell_type": "code",
   "execution_count": null,
   "metadata": {},
   "outputs": [],
   "source": [
    "#Saving results into csv file\n",
    "users_with_10USD_trans['USER_ID'].to_csv('./users_with_10USD_as_first_transaction.csv',index=False, header='USER_ID')"
   ]
  },
  {
   "cell_type": "markdown",
   "metadata": {},
   "source": [
    "# TASK 2.a - Fraudster Radar"
   ]
  },
  {
   "cell_type": "markdown",
   "metadata": {},
   "source": [
    "#### Find 5 likely fraudsters (not already found in fraudsters.csv!), provide their user_ids, and explain how you found them and why they are likely fraudsters. Use diagrams, illustrations, etc. Show your work! (25 points)\n",
    "_(Note: show your work! We are looking for data-driven techniques. If you use Excel, provide the working file. If you use Python, send us a Jupyter notebook, etc.)_"
   ]
  },
  {
   "cell_type": "code",
   "execution_count": 9,
   "metadata": {},
   "outputs": [
    {
     "name": "stdout",
     "output_type": "stream",
     "text": [
      "Python: 3.6.8 |Anaconda, Inc.| (default, Dec 29 2018, 19:04:46) \n",
      "[GCC 4.2.1 Compatible Clang 4.0.1 (tags/RELEASE_401/final)]\n",
      "Numpy: 1.16.2\n",
      "Pandas: 0.23.0\n",
      "Matplotlib: 2.2.2\n",
      "Seaborn: 0.8.1\n",
      "Scipy: 1.2.1\n"
     ]
    }
   ],
   "source": [
    "#importing pandas library\n",
    "import sys\n",
    "import numpy as np\n",
    "import pandas as pd\n",
    "import matplotlib\n",
    "import matplotlib.pyplot as plt\n",
    "import seaborn\n",
    "import seaborn as sns\n",
    "import scipy\n",
    "import datetime as dt\n",
    "from tqdm import tqdm\n",
    "\n",
    "print('Python: {}'.format(sys.version))\n",
    "print('Numpy: {}'.format(np.__version__))\n",
    "print('Pandas: {}'.format(pd.__version__))\n",
    "print('Matplotlib: {}'.format(matplotlib.__version__))\n",
    "print('Seaborn: {}'.format(sns.__version__))\n",
    "print('Scipy: {}'.format(scipy.__version__))\n"
   ]
  },
  {
   "cell_type": "markdown",
   "metadata": {},
   "source": [
    "### The Data Set\n",
    "In the following cells, we will import our dataset from a .csv file as a Pandas DataFrame. Furthermore, we will begin exploring the dataset to gain an understanding of the type, quantity, and distribution of data in our dataset. For this purpose, we will use Pandas' built-in describe feature, as well as parameter histograms and a correlation matrix."
   ]
  },
  {
   "cell_type": "code",
   "execution_count": 10,
   "metadata": {},
   "outputs": [],
   "source": [
    "#loading all csv files using pandas\n",
    "currency_details = pd.read_csv('./currency_details.csv')\n",
    "fx_rates = pd.read_csv('./fx_rates.csv')\n",
    "transactions = pd.read_csv('./transactions.csv',index_col=0)\n",
    "users = pd.read_csv('./users.csv',index_col=0)\n",
    "fraudsters = pd.read_csv('./fraudsters.csv',index_col=0)\n",
    "countries = pd.read_csv('./countries.csv',index_col=0)"
   ]
  },
  {
   "cell_type": "code",
   "execution_count": 11,
   "metadata": {},
   "outputs": [],
   "source": [
    "#Adding to users table information about known fraudsters\n",
    "users[\"Fraudster\"] = users['ID'].isin( fraudsters['user_id'])"
   ]
  },
  {
   "cell_type": "code",
   "execution_count": 12,
   "metadata": {},
   "outputs": [],
   "source": [
    "#Merging transactions and rates_in_usd tables\n",
    "fraudsters_trans = pd.merge(transactions, users, how='left',left_on=\"USER_ID\", right_on='ID') "
   ]
  },
  {
   "cell_type": "code",
   "execution_count": 13,
   "metadata": {},
   "outputs": [],
   "source": [
    "#Converting time to correct time type\n",
    "fraudsters_trans['date_transaction'] =  pd.to_datetime(fraudsters_trans['CREATED_DATE_x'], format='%Y-%m-%d %H:%M:%S.%f')\n",
    "fraudsters_trans['date_acc_created'] =  pd.to_datetime(fraudsters_trans['CREATED_DATE_y'], format='%Y-%m-%d %H:%M:%S.%f')\n",
    "\n"
   ]
  },
  {
   "cell_type": "code",
   "execution_count": 14,
   "metadata": {},
   "outputs": [],
   "source": [
    "#Convering all transactions into GBP\n",
    "fx_rates = pd.merge(fx_rates,currency_details, how='inner',left_on=\"ccy\", right_on='currency').drop(labels=['currency','iso_code','is_crypto'],axis=1)\n",
    "rates_in_gbp = fx_rates[fx_rates['base_ccy']=='GBP']\n",
    "fraudsters_trans = pd.merge(fraudsters_trans,rates_in_gbp, how='left',left_on=\"CURRENCY\", right_on='ccy')\n",
    "fraudsters_trans['Amount_in_GBP'] = (fraudsters_trans['AMOUNT']*fraudsters_trans['rate']/10**fraudsters_trans['exponent'])\n",
    "fraudsters_trans = fraudsters_trans.drop(labels=['base_ccy','rate','ccy','exponent'],axis=1)\n"
   ]
  },
  {
   "cell_type": "code",
   "execution_count": 15,
   "metadata": {},
   "outputs": [
    {
     "data": {
      "text/plain": [
       "Index(['CURRENCY', 'AMOUNT', 'STATE_x', 'CREATED_DATE_x', 'MERCHANT_CATEGORY',\n",
       "       'MERCHANT_COUNTRY', 'ENTRY_METHOD', 'USER_ID', 'TYPE', 'SOURCE', 'ID_x',\n",
       "       'FAILED_SIGN_IN_ATTEMPTS', 'KYC', 'BIRTH_YEAR', 'COUNTRY', 'STATE_y',\n",
       "       'CREATED_DATE_y', 'TERMS_VERSION', 'PHONE_COUNTRY', 'HAS_EMAIL', 'ID_y',\n",
       "       'Fraudster', 'date_transaction', 'date_acc_created', 'Amount_in_GBP'],\n",
       "      dtype='object')"
      ]
     },
     "execution_count": 15,
     "metadata": {},
     "output_type": "execute_result"
    }
   ],
   "source": [
    "fraudsters_trans.columns"
   ]
  },
  {
   "cell_type": "code",
   "execution_count": 16,
   "metadata": {},
   "outputs": [],
   "source": [
    "#removing unnecessary columns to clean up the dataset and minimize file\n",
    "file_for_data_studio = fraudsters_trans.drop(labels=[\n",
    "    'CREATED_DATE_x',\n",
    "    'ENTRY_METHOD',\n",
    "    'SOURCE',\n",
    "    'ID_x',\n",
    "    'FAILED_SIGN_IN_ATTEMPTS',\n",
    "    'STATE_y',\n",
    "    'CREATED_DATE_y',\n",
    "    'TERMS_VERSION',\n",
    "    'PHONE_COUNTRY',\n",
    "    'HAS_EMAIL',\n",
    "    'ID_y'],axis=1)"
   ]
  },
  {
   "cell_type": "code",
   "execution_count": null,
   "metadata": {},
   "outputs": [],
   "source": [
    "file_for_data_studio.columns"
   ]
  },
  {
   "cell_type": "code",
   "execution_count": 17,
   "metadata": {},
   "outputs": [],
   "source": [
    "file_for_data_studio = file_for_data_studio.sort_values(by = ['USER_ID','date_acc_created'],ascending=True )"
   ]
  },
  {
   "cell_type": "code",
   "execution_count": null,
   "metadata": {},
   "outputs": [],
   "source": [
    "#Saving cleaned data set for Data Studio\n",
    "file_for_data_studio.to_csv('./file_for_data_studio.csv',index=False)"
   ]
  },
  {
   "cell_type": "markdown",
   "metadata": {},
   "source": [
    "## Preparing Data to train ML model"
   ]
  },
  {
   "cell_type": "code",
   "execution_count": 18,
   "metadata": {},
   "outputs": [],
   "source": [
    "# Creating new columns with time diference in seconds between transactions and account creations.\n",
    "fraudsters_trans[\"dif_date\"] = fraudsters_trans['date_transaction'] - fraudsters_trans['date_acc_created']\n",
    "fraudsters_trans[\"dif_date\"] = fraudsters_trans[\"dif_date\"].dt.total_seconds()"
   ]
  },
  {
   "cell_type": "code",
   "execution_count": null,
   "metadata": {},
   "outputs": [],
   "source": [
    "fraudsters_trans.columns"
   ]
  },
  {
   "cell_type": "code",
   "execution_count": 19,
   "metadata": {},
   "outputs": [],
   "source": [
    "fraudsters_trans = fraudsters_trans.drop(labels=[\n",
    "    'CREATED_DATE_x',\n",
    "    'date_acc_created',\n",
    "    'date_transaction',\n",
    "    'ID_x',\n",
    "    'STATE_y',\n",
    "    'CREATED_DATE_y',\n",
    "    'HAS_EMAIL',\n",
    "    'ID_y',\n",
    "    'Amount_in_GBP'],axis=1)"
   ]
  },
  {
   "cell_type": "code",
   "execution_count": null,
   "metadata": {},
   "outputs": [],
   "source": [
    "fraudsters_trans.columns"
   ]
  },
  {
   "cell_type": "code",
   "execution_count": 20,
   "metadata": {},
   "outputs": [
    {
     "name": "stderr",
     "output_type": "stream",
     "text": [
      "100%|██████████| 11/11 [00:50<00:00,  3.17s/it]\n"
     ]
    }
   ],
   "source": [
    "#Converitng all test into numbers by using hash\n",
    "list_for_converting = [\"CURRENCY\",\"STATE_x\", \"MERCHANT_CATEGORY\", \"MERCHANT_COUNTRY\",\"ENTRY_METHOD\", \"TYPE\", \"SOURCE\",\"KYC\", \"COUNTRY\", \"PHONE_COUNTRY\",'Fraudster','TERMS_VERSION']\n",
    "for conv in tqdm(list_for_converting):\n",
    "    hash_words = {word: hash(word) for word in fraudsters_trans[conv].unique()}\n",
    "    for i in hash_words:\n",
    "        fraudsters_trans[conv] = fraudsters_trans[conv].replace(i, hash_words[i])\n",
    "        "
   ]
  },
  {
   "cell_type": "code",
   "execution_count": 21,
   "metadata": {},
   "outputs": [],
   "source": [
    "uniq_users = fraudsters_trans[\"USER_ID\"].unique()\n",
    "hash_words = {word: hash(word) for word in uniq_users}"
   ]
  },
  {
   "cell_type": "code",
   "execution_count": 22,
   "metadata": {},
   "outputs": [
    {
     "name": "stderr",
     "output_type": "stream",
     "text": [
      "100%|██████████| 8021/8021 [21:58<00:00,  3.71it/s]\n"
     ]
    }
   ],
   "source": [
    "for i in tqdm(hash_words):\n",
    "        fraudsters_trans['USER_ID'] = fraudsters_trans[\"USER_ID\"].replace(i, hash_words[i])"
   ]
  },
  {
   "cell_type": "code",
   "execution_count": 23,
   "metadata": {},
   "outputs": [],
   "source": [
    "#saving cleaned and hashed data\n",
    "fraudsters_trans.to_csv('./transactions_hashed.csv',index=False)\n"
   ]
  },
  {
   "cell_type": "code",
   "execution_count": 24,
   "metadata": {},
   "outputs": [
    {
     "data": {
      "text/plain": [
       "Text(0,0.5,'Frequency')"
      ]
     },
     "execution_count": 24,
     "metadata": {},
     "output_type": "execute_result"
    },
    {
     "data": {
      "image/png": "[encoded data removed]",
      "text/plain": [
       "<Figure size 432x288 with 1 Axes>"
      ]
     },
     "metadata": {},
     "output_type": "display_data"
    }
   ],
   "source": [
    "count_classes = pd.value_counts(fraudsters_trans['Fraudster'], sort = True).sort_index()\n",
    "count_classes.plot(kind = 'bar')\n",
    "plt.title(\"Fraud class histogram\")\n",
    "plt.xlabel(\"Class\")\n",
    "plt.ylabel(\"Frequency\")"
   ]
  },
  {
   "cell_type": "markdown",
   "metadata": {},
   "source": [
    "##### Sample of fraud customers/transactions is extremly small"
   ]
  },
  {
   "cell_type": "code",
   "execution_count": 43,
   "metadata": {},
   "outputs": [
    {
     "name": "stdout",
     "output_type": "stream",
     "text": [
      "(344326, 16)\n",
      "           CURRENCY        AMOUNT       STATE_x  MERCHANT_CATEGORY  \\\n",
      "count  3.443260e+05  3.443260e+05  3.443260e+05       3.443260e+05   \n",
      "mean  -1.457524e+18  3.171983e+04 -5.308987e+18      -2.374184e+17   \n",
      "std    3.336632e+18  2.588321e+06  4.767402e+18       3.519031e+18   \n",
      "min   -9.075915e+18  0.000000e+00 -8.631833e+18      -9.018335e+18   \n",
      "25%   -4.191206e+18  4.800000e+02 -7.079716e+18       0.000000e+00   \n",
      "50%   -4.191206e+18  1.410000e+03 -7.079716e+18       0.000000e+00   \n",
      "75%    4.925179e+17  5.000000e+03 -7.079716e+18       0.000000e+00   \n",
      "max    8.677587e+18  9.000000e+08  7.623718e+18       8.786035e+18   \n",
      "\n",
      "       MERCHANT_COUNTRY  ENTRY_METHOD       USER_ID          TYPE  \\\n",
      "count      3.443260e+05  3.443260e+05  3.443260e+05  3.443260e+05   \n",
      "mean       3.203756e+17 -1.268080e+18 -2.652972e+17 -2.293341e+18   \n",
      "std        3.700431e+18  6.349241e+18  5.347886e+18  3.780471e+18   \n",
      "min       -9.207030e+18 -7.325538e+18 -9.212420e+18 -6.543723e+18   \n",
      "25%       -1.812691e+18 -7.325538e+18 -4.913606e+18 -2.768191e+18   \n",
      "50%        0.000000e+00 -4.495818e+18 -4.182099e+17 -2.624404e+18   \n",
      "75%        2.723039e+18  5.564065e+18  4.421369e+18 -2.624404e+18   \n",
      "max        9.133525e+18  9.207879e+18  9.222656e+18  8.512056e+18   \n",
      "\n",
      "             SOURCE  FAILED_SIGN_IN_ATTEMPTS           KYC     BIRTH_YEAR  \\\n",
      "count  3.443260e+05            344326.000000  3.443260e+05  344326.000000   \n",
      "mean   4.784364e+18                 0.009099  3.257893e+18    1984.746917   \n",
      "std    6.114581e+18                 0.137675  7.398239e+17       9.908660   \n",
      "min   -6.185393e+18                 0.000000 -8.631833e+18    1927.000000   \n",
      "25%   -3.368279e+18                 0.000000  3.273857e+18    1980.000000   \n",
      "50%    8.649094e+18                 0.000000  3.273857e+18    1987.000000   \n",
      "75%    8.649094e+18                 0.000000  3.273857e+18    1992.000000   \n",
      "max    8.649094e+18                 6.000000  6.122888e+18    2000.000000   \n",
      "\n",
      "            COUNTRY  PHONE_COUNTRY      Fraudster      dif_date  \n",
      "count  3.443260e+05   3.443260e+05  344326.000000  3.443260e+05  \n",
      "mean  -7.310096e+17  -2.294434e+18       0.021000  2.092891e+07  \n",
      "std    5.851456e+18   7.421634e+18       0.143386  1.925368e+07  \n",
      "min   -8.785447e+18  -8.785447e+18       0.000000  4.167500e+01  \n",
      "25%   -5.020171e+18  -8.521696e+18       0.000000  5.788969e+06  \n",
      "50%   -5.020171e+18  -8.521696e+18       0.000000  1.481679e+07  \n",
      "75%    6.313111e+18   6.313111e+18       0.000000  3.117007e+07  \n",
      "max    9.008072e+18   9.008072e+18       1.000000  1.076568e+08  \n"
     ]
    }
   ],
   "source": [
    "# Print the shape of the data\n",
    "data = fraudsters_trans.sample(frac=0.5, random_state = 1)\n",
    "print(data.shape)\n",
    "print(data.describe())"
   ]
  },
  {
   "cell_type": "code",
   "execution_count": 44,
   "metadata": {},
   "outputs": [
    {
     "data": {
      "image/png": "[encoded data removed]",
      "text/plain": [
       "<Figure size 1440x1440 with 16 Axes>"
      ]
     },
     "metadata": {},
     "output_type": "display_data"
    }
   ],
   "source": [
    "# Plot histograms of each parameter \n",
    "data.hist(figsize = (20, 20))\n",
    "plt.show()"
   ]
  },
  {
   "cell_type": "code",
   "execution_count": 45,
   "metadata": {},
   "outputs": [
    {
     "name": "stdout",
     "output_type": "stream",
     "text": [
      "0.04314214093949777\n",
      "Fraud Cases: 7231\n",
      "Valid Transactions: 337095\n"
     ]
    }
   ],
   "source": [
    "# Determine number of fraud cases in dataset\n",
    "\n",
    "Fraud = fraudsters_trans[fraudsters_trans['Fraudster'] == 1]\n",
    "Valid = data[data['Fraudster'] == 0]\n",
    "\n",
    "outlier_fraction = len(Fraud)/float(len(Valid))\n",
    "print(outlier_fraction)\n",
    "\n",
    "print('Fraud Cases: {}'.format(len(data[data['Fraudster'] == 1])))\n",
    "print('Valid Transactions: {}'.format(len(data[data['Fraudster'] == 0])))"
   ]
  },
  {
   "cell_type": "code",
   "execution_count": 46,
   "metadata": {},
   "outputs": [
    {
     "data": {
      "image/png": "[encoded data removed]",
      "text/plain": [
       "<Figure size 864x648 with 2 Axes>"
      ]
     },
     "metadata": {},
     "output_type": "display_data"
    }
   ],
   "source": [
    "# Correlation matrix\n",
    "corrmat = data.corr()\n",
    "fig = plt.figure(figsize = (12, 9))\n",
    "\n",
    "sns.heatmap(corrmat, vmax = .8, square = True)\n",
    "plt.show()"
   ]
  },
  {
   "cell_type": "code",
   "execution_count": 47,
   "metadata": {},
   "outputs": [
    {
     "name": "stdout",
     "output_type": "stream",
     "text": [
      "(344326, 15)\n",
      "(344326,)\n"
     ]
    }
   ],
   "source": [
    "# Get all the columns from the dataFrame\n",
    "columns = data.columns.tolist()\n",
    "\n",
    "# Filter the columns to remove data we do not want\n",
    "columns = [c for c in columns if c not in [\"Fraudster\", \"HASHED_USER_ID\"]]\n",
    "\n",
    "# Store the variable we'll be predicting on\n",
    "target = \"Fraudster\"\n",
    "\n",
    "X = data[columns]\n",
    "Y = data[target]\n",
    "\n",
    "# Print shapes\n",
    "print(X.shape)\n",
    "print(Y.shape)"
   ]
  },
  {
   "cell_type": "markdown",
   "metadata": {},
   "source": [
    "# Unsupervised Outlier Detection\n",
    "Now that we have processed our data, we can begin deploying our machine learning algorithms. We will use the following techniques:\n",
    "\n",
    "Local Outlier Factor (LOF)\n",
    "\n",
    "The anomaly score of each sample is called Local Outlier Factor. It measures the local deviation of density of a given sample with respect to its neighbors. It is local in that the anomaly score depends on how isolated the object is with respect to the surrounding neighborhood.\n",
    "\n",
    "Isolation Forest Algorithm\n",
    "\n",
    "The IsolationForest ‘isolates’ observations by randomly selecting a feature and then randomly selecting a split value between the maximum and minimum values of the selected feature.\n",
    "\n",
    "Since recursive partitioning can be represented by a tree structure, the number of splittings required to isolate a sample is equivalent to the path length from the root node to the terminating node.\n",
    "\n",
    "This path length, averaged over a forest of such random trees, is a measure of normality and our decision function.\n",
    "\n",
    "Random partitioning produces noticeably shorter paths for anomalies. Hence, when a forest of random trees collectively produce shorter path lengths for particular samples, they are highly likely to be anomalies."
   ]
  },
  {
   "cell_type": "code",
   "execution_count": 48,
   "metadata": {},
   "outputs": [],
   "source": [
    "from sklearn.metrics import classification_report, accuracy_score\n",
    "from sklearn.ensemble import IsolationForest\n",
    "from sklearn.neighbors import LocalOutlierFactor\n",
    "\n",
    "# define random states\n",
    "state = 1\n",
    "\n",
    "# define outlier detection tools to be compared\n",
    "classifiers = {\n",
    "    \"Isolation Forest\": IsolationForest(max_samples=len(X),\n",
    "                                        contamination=outlier_fraction,\n",
    "                                        random_state=state),\n",
    "    \"Local Outlier Factor\": LocalOutlierFactor(\n",
    "        n_neighbors=20,\n",
    "        contamination=outlier_fraction)}"
   ]
  },
  {
   "cell_type": "code",
   "execution_count": 49,
   "metadata": {},
   "outputs": [
    {
     "name": "stderr",
     "output_type": "stream",
     "text": [
      "0it [00:00, ?it/s]/anaconda3/lib/python3.6/site-packages/sklearn/ensemble/iforest.py:223: FutureWarning: behaviour=\"old\" is deprecated and will be removed in version 0.22. Please use behaviour=\"new\", which makes the decision_function change to match other anomaly detection algorithm API.\n",
      "  FutureWarning)\n",
      "/anaconda3/lib/python3.6/site-packages/sklearn/ensemble/iforest.py:417: DeprecationWarning: threshold_ attribute is deprecated in 0.20 and will be removed in 0.22.\n",
      "  \" be removed in 0.22.\", DeprecationWarning)\n"
     ]
    },
    {
     "name": "stdout",
     "output_type": "stream",
     "text": [
      "Isolation Forest: 21354\n",
      "0.9379831903486812\n"
     ]
    },
    {
     "name": "stderr",
     "output_type": "stream",
     "text": [
      "\r",
      "1it [01:28, 88.47s/it]"
     ]
    },
    {
     "name": "stdout",
     "output_type": "stream",
     "text": [
      "              precision    recall  f1-score   support\n",
      "\n",
      "         0.0       0.98      0.96      0.97    337095\n",
      "         1.0       0.02      0.05      0.03      7231\n",
      "\n",
      "   micro avg       0.94      0.94      0.94    344326\n",
      "   macro avg       0.50      0.50      0.50    344326\n",
      "weighted avg       0.96      0.94      0.95    344326\n",
      "\n",
      "Local Outlier Factor: 21473\n",
      "0.9376375876349738\n"
     ]
    },
    {
     "name": "stderr",
     "output_type": "stream",
     "text": [
      "\r",
      "2it [05:48, 140.05s/it]"
     ]
    },
    {
     "name": "stdout",
     "output_type": "stream",
     "text": [
      "              precision    recall  f1-score   support\n",
      "\n",
      "         0.0       0.98      0.96      0.97    337095\n",
      "         1.0       0.02      0.04      0.03      7231\n",
      "\n",
      "   micro avg       0.94      0.94      0.94    344326\n",
      "   macro avg       0.50      0.50      0.50    344326\n",
      "weighted avg       0.96      0.94      0.95    344326\n",
      "\n"
     ]
    },
    {
     "name": "stderr",
     "output_type": "stream",
     "text": [
      "\n"
     ]
    },
    {
     "data": {
      "text/plain": [
       "<Figure size 648x504 with 0 Axes>"
      ]
     },
     "metadata": {},
     "output_type": "display_data"
    }
   ],
   "source": [
    "# Fit the model\n",
    "plt.figure(figsize=(9, 7))\n",
    "n_outliers = len(Fraud)\n",
    "\n",
    "\n",
    "for i, (clf_name, clf) in tqdm(enumerate(classifiers.items())):\n",
    "    \n",
    "    # fit the data and tag outliers\n",
    "    if clf_name == \"Local Outlier Factor\":\n",
    "        y_pred = clf.fit_predict(X)\n",
    "        scores_pred = clf.negative_outlier_factor_\n",
    "    else:\n",
    "        clf.fit(X)\n",
    "        scores_pred = clf.decision_function(X)\n",
    "        y_pred = clf.predict(X)\n",
    "    \n",
    "    # Reshape the prediction values to 0 for valid, 1 for fraud. \n",
    "    y_pred[y_pred == 1] = 0\n",
    "    y_pred[y_pred == -1] = 1\n",
    "    \n",
    "    n_errors = (y_pred != Y).sum()\n",
    "    \n",
    "    # Run classification metrics\n",
    "    print('{}: {}'.format(clf_name, n_errors))\n",
    "    print(accuracy_score(Y, y_pred))\n",
    "    print(classification_report(Y, y_pred))"
   ]
  },
  {
   "cell_type": "markdown",
   "metadata": {},
   "source": [
    "Precision = 0.02. The rate of true positive in all positive cases.\n",
    "Recall = 0.05. The rate of true positive in all true cases.\n",
    "F1-score = 0.03\n",
    "Model is not working with current dataset. "
   ]
  },
  {
   "cell_type": "markdown",
   "metadata": {},
   "source": [
    "###### As a trained model is working with so small accuracny I'll review account activity manualy using DataStudio. Full report can be found under this [Link](https://datastudio.google.com/open/1cv5JXuZliSNLDmqfMXP4A69-kvwtpl-_)"
   ]
  },
  {
   "cell_type": "code",
   "execution_count": 50,
   "metadata": {},
   "outputs": [
    {
     "data": {
      "text/html": [
       "<iframe width=\"1000\" height=\"1360\" src=\"https://datastudio.google.com/embed/reporting/1cv5JXuZliSNLDmqfMXP4A69-kvwtpl-_/page/omhk\" frameborder=\"0\" style=\"border:0\" allowfullscreen></iframe>"
      ],
      "text/plain": [
       "<IPython.core.display.HTML object>"
      ]
     },
     "metadata": {},
     "output_type": "display_data"
    }
   ],
   "source": [
    "from IPython.core.display import display, HTML\n",
    "display(HTML('<iframe width=\"1000\" height=\"1360\" src=\"https://datastudio.google.com/embed/reporting/1cv5JXuZliSNLDmqfMXP4A69-kvwtpl-_/page/omhk\" frameborder=\"0\" style=\"border:0\" allowfullscreen></iframe>'))"
   ]
  },
  {
   "cell_type": "markdown",
   "metadata": {},
   "source": [
    "## Possible fraud activity:"
   ]
  },
  {
   "cell_type": "code",
   "execution_count": 51,
   "metadata": {},
   "outputs": [
    {
     "data": {
      "text/html": [
       "<iframe width=\"1000\" height=\"1360\" src=\"https://datastudio.google.com/embed/reporting/1cv5JXuZliSNLDmqfMXP4A69-kvwtpl-_/page/DDik\" frameborder=\"0\" style=\"border:0\" allowfullscreen></iframe>"
      ],
      "text/plain": [
       "<IPython.core.display.HTML object>"
      ]
     },
     "metadata": {},
     "output_type": "display_data"
    }
   ],
   "source": [
    "from IPython.core.display import display, HTML\n",
    "display(HTML('<iframe width=\"1000\" height=\"1360\" src=\"https://datastudio.google.com/embed/reporting/1cv5JXuZliSNLDmqfMXP4A69-kvwtpl-_/page/DDik\" frameborder=\"0\" style=\"border:0\" allowfullscreen></iframe>'))\n",
    "\n"
   ]
  },
  {
   "cell_type": "markdown",
   "metadata": {},
   "source": [
    "# Task 3.a - Wide-open Analysis:\n",
    "\n",
    "#### The MLRO is asking for some information about account activity for their annual report. Explore the transactional data. Provide a histogram showing the turnover per account (inbound funds + outbound funds only). Don’t forget to handle for different currencies! (10 points)\n",
    "\n",
    "# Task 3.b - Wide-open Analysis:\n",
    "\n",
    "#### Using the diagram above and your favorite analytical tool, tell us some statistical measures about it (e.g. mean, median, IQR, mode, distribution, local maximums, etc) and comment on its implications from a regulatory and best practice perspective. This analysis will be going to the board, so be clear and precise, including references to regulation and guidance. (25 points)\n",
    "\n"
   ]
  },
  {
   "cell_type": "code",
   "execution_count": 52,
   "metadata": {},
   "outputs": [
    {
     "data": {
      "text/html": [
       "<iframe width=\"1000\" height=\"1360\" src=\"https://datastudio.google.com/embed/reporting/1cv5JXuZliSNLDmqfMXP4A69-kvwtpl-_/page/3Bmf\" frameborder=\"0\" style=\"border:0\" allowfullscreen></iframe>"
      ],
      "text/plain": [
       "<IPython.core.display.HTML object>"
      ]
     },
     "metadata": {},
     "output_type": "display_data"
    }
   ],
   "source": [
    "from IPython.core.display import display, HTML\n",
    "display(HTML('<iframe width=\"1000\" height=\"1360\" src=\"https://datastudio.google.com/embed/reporting/1cv5JXuZliSNLDmqfMXP4A69-kvwtpl-_/page/3Bmf\" frameborder=\"0\" style=\"border:0\" allowfullscreen></iframe>'))\n",
    "\n"
   ]
  },
  {
   "cell_type": "markdown",
   "metadata": {},
   "source": [
    "# Task 4 - Hot Debate\n",
    "\n",
    "#### There is a proposal for the Executive Risk Committee raised by the Onboarding team to streamline our politically exposed persons (PEP) process at client onboarding. Like any other company, Revolut must maintain a higher level of due diligence on PEPs. \n",
    "\n",
    "The proposal is straightforward. \n",
    "\n",
    "Once an alert from our favorite screening provider comes through, we will surface a series of prompts within the app to corroborate the match. If the answers show that the user is a PEP, they will be flagged as such. If not, the PEP flags will be cleared. The PEP status will feed into our risk assessment of the customer as they currently do - there is no planned change of the risk assessment layer. The app will ask a series of questions such as:\n",
    "1. What is your occupation?\n",
    "2. Have you or a family member ever held political office in the last 10 years?\n",
    "3. Pick any of the following positions that you have held:\n",
    "  1. Councillor, Brighton, UK, 2015-2018\n",
    "  2. Councillor, Southwark Borough, London, UK 2013-2016\n",
    "  3. Deputy Minister of Justice, UK, 2011\n",
    "  4. Secretary to the UN, 2010\n",
    "  5. None of the above\n",
    "\n",
    "The screening team that is currently doing this process will be repurposed and retrained to helping conduct source of funds due diligence.\n",
    "\n",
    "1. The executive risk committee has a fondness for flow diagrams. Use draw.io to draw out any system schematics and to show your understanding of the solution. Submit the .xml file by going to File > Save As > Device.\n",
    "2. Analyse the risks involved and assess how they are mitigated by this proposal. What do you think of this proposal? Do you agree or disagree? \n",
    "3. What improvements would you make? How would these improvements change the system and affect the risks you’ve outlined in 2)?\n",
    "4. What is your recommendation? \n"
   ]
  },
  {
   "cell_type": "code",
   "execution_count": 53,
   "metadata": {},
   "outputs": [
    {
     "data": {
      "text/html": [
       "<iframe width=\"1000\" height=\"1360\" src=\"https://datastudio.google.com/embed/reporting/1cv5JXuZliSNLDmqfMXP4A69-kvwtpl-_/page/jhhk\" frameborder=\"0\" style=\"border:0\" allowfullscreen></iframe>"
      ],
      "text/plain": [
       "<IPython.core.display.HTML object>"
      ]
     },
     "metadata": {},
     "output_type": "display_data"
    }
   ],
   "source": [
    "from IPython.core.display import display, HTML\n",
    "display(HTML('<iframe width=\"1000\" height=\"1360\" src=\"https://datastudio.google.com/embed/reporting/1cv5JXuZliSNLDmqfMXP4A69-kvwtpl-_/page/jhhk\" frameborder=\"0\" style=\"border:0\" allowfullscreen></iframe>'))"
   ]
  },
  {
   "cell_type": "code",
   "execution_count": null,
   "metadata": {},
   "outputs": [],
   "source": []
  }
 ],
 "metadata": {
  "kernelspec": {
   "display_name": "Python 3",
   "language": "python",
   "name": "python3"
  },
  "language_info": {
   "codemirror_mode": {
    "name": "ipython",
    "version": 3
   },
   "file_extension": ".py",
   "mimetype": "text/x-python",
   "name": "python",
   "nbconvert_exporter": "python",
   "pygments_lexer": "ipython3",
   "version": "3.6.8"
  }
 },
 "nbformat": 4,
 "nbformat_minor": 2
}
