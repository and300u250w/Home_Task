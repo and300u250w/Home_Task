{
 "cells": [
  {
   "cell_type": "markdown",
   "metadata": {},
   "source": [
    "# Revolut Financial Crime Challenge\n",
    "## Home Task"
   ]
  },
  {
   "cell_type": "markdown",
   "metadata": {},
   "source": [
    "# TASK 1 - Communication and SQL familiarity"
   ]
  },
  {
   "cell_type": "markdown",
   "metadata": {},
   "source": [
    "#### Examine the following SQL query, and explain clearly and succinctly what it means. Will the query work? Explain why or why not. (15 points)"
   ]
  },
  {
   "cell_type": "markdown",
   "metadata": {},
   "source": [
    "```SQL\n",
    "WITH processed_users AS (\n",
    "SELECT left(u.phone_country, 2) AS short_phone_country, u.id \n",
    "FROM users u\n",
    ")\n",
    "SELECT t.user_id, \n",
    "t.merchant_country, \n",
    "sum(t.amount / fx.rate / power(10, cd.exponent)) AS amount \n",
    "FROM transactions t\n",
    "JOIN fx_rates fx ON (fx.ccy = t.currency AND fx.base_ccy = 'EUR')\n",
    "JOIN currency_details cd ON cd.currency = t.currency\n",
    "JOIN processed_users pu ON pu.id = t.user_id\n",
    "WHERE t.source = 'GAIA'\n",
    "AND pu.short_phone_country = t.merchant_country\n",
    "GROUP BY t.user_id, t.merchant_country\n",
    "\n",
    "ORDER BY amount DESC;```"
   ]
  },
  {
   "cell_type": "markdown",
   "metadata": {},
   "source": [
    "<img src=\"Screenshot%202019-03-13%20at%2000.07.06.png\" width=\"800\" />"
   ]
  },
  {
   "cell_type": "markdown",
   "metadata": {},
   "source": [
    "**Examine the following SQL query, and explain clearly and succinctly what it means:**"
   ]
  },
  {
   "cell_type": "code",
   "execution_count": null,
   "metadata": {},
   "outputs": [],
   "source": []
  },
  {
   "cell_type": "markdown",
   "metadata": {},
   "source": [
    "**Will the query work? Explain why or why not.**\n",
    "___\n",
    "\n",
    "The code above is not working due to this line -> **AND pu.short_phone_country = t.merchant_country**. Compared values are in different formats and that is why result is empty.\n",
    "\n",
    "> pu.short_phone_country  -> **varchar(2)**, ex. HU\n",
    "\n",
    "> t.merchant_country -> **varchar(3)**, ex. HUN\n",
    "\n",
    "\n",
    "The solution for this mistake will be aligning Merchant country code to Phone country code by modifying the string:\n",
    "\n",
    "> Instead of **AND pu.short_phone_country = t.merchant_country** should be **AND pu.short_phone_country = left(t.\"MERCHANT_COUNTRY\",2)**\n",
    "\n",
    "***\n",
    "Additionally, calculation for exchange rate is wrong as well:\n",
    "\n",
    ">Incorrect code - **sum(t.\"AMOUNT\" / fx.rate / power(10, cd.exponent)) AS amount**\n",
    "\n",
    ">Correct code - **sum(t.\"AMOUNT\" * fx.rate / power(10, cd.exponent)) AS amount** \n",
    "\n"
   ]
  },
  {
   "cell_type": "markdown",
   "metadata": {},
   "source": [
    "<img src=\"Screenshot%202019-03-13%20at%2000.09.05.png\" width=\"800\" />"
   ]
  },
  {
   "cell_type": "markdown",
   "metadata": {},
   "source": [
    "```SQL\n",
    "WITH processed_users AS (\n",
    "SELECT left(u.\"PHONE_COUNTRY\", 2) AS \n",
    "short_phone_country, u.\"ID\"\n",
    "FROM users u)\n",
    "SELECT t.\"USER_ID\",\n",
    "t.\"MERCHANT_COUNTRY\",\n",
    "sum(t.\"AMOUNT\" * fx.\"rate\" / power(10, cd.exponent)) AS amount\n",
    "FROM transactions t\n",
    "JOIN fx_rates fx ON (fx.ccy = t.\"CURRENCY\" AND fx.base_ccy = 'EUR')\n",
    "JOIN currency_details cd ON cd.ccy = t.\"CURRENCY\"\n",
    "JOIN processed_users pu ON pu.\"ID\" = t.\"USER_ID\"\n",
    "WHERE t.\"SOURCE\" = 'GAIA'\n",
    "AND pu.short_phone_country = left(t.\"MERCHANT_COUNTRY\",2)\n",
    "GROUP BY t.\"USER_ID\", t.\"MERCHANT_COUNTRY\"\n",
    "ORDER BY amount DESC; ```"
   ]
  },
  {
   "attachments": {},
   "cell_type": "markdown",
   "metadata": {},
   "source": [
    "##### Output result from query above:"
   ]
  },
  {
   "cell_type": "markdown",
   "metadata": {},
   "source": [
    "<img src=\"Task%201%20results.png\" width=\"800\" />"
   ]
  },
  {
   "cell_type": "markdown",
   "metadata": {},
   "source": [
    "# TASK 2 - Communication and SQL familiarity"
   ]
  },
  {
   "cell_type": "markdown",
   "metadata": {},
   "source": [
    "#### Now it’s your turn! Write a query to identify users whose first transaction was a successful card payment over $10 USD equivalent (10 points)"
   ]
  },
  {
   "cell_type": "markdown",
   "metadata": {},
   "source": [
    "### Correct SQL Query:\n",
    "___"
   ]
  },
  {
   "cell_type": "markdown",
   "metadata": {},
   "source": [
    "```SQL\n",
    "SELECT *\n",
    "FROM (\n",
    "SELECT DISTINCT ON (tr.\"USER_ID\")\n",
    "\ttr.\"USER_ID\", tr.\"CURRENCY\", tr.\"AMOUNT\", \n",
    "\tCASE WHEN fx.ccy = tr.\"CURRENCY\" THEN tr.\"AMOUNT\"*fx.rate / power(10, cd.exponent) END AS \"AMOUNT_IN_USD\",\n",
    "\ttr.\"CREATED_DATE\" as \"Date_of_First_Transaction\"\n",
    "FROM Public.fx_rates AS fx\n",
    "INNER JOIN transactions as tr ON tr.\"CURRENCY\" = fx.ccy\n",
    "JOIN currency_details cd ON cd.ccy = tr.\"CURRENCY\"\n",
    "WHERE base_ccy = 'USD' \n",
    "    AND tr.\"TYPE\" = 'CARD_PAYMENT' \n",
    "    AND tr.\"STATE\" = 'COMPLETED' \n",
    "ORDER BY tr.\"USER_ID\", tr.\"CREATED_DATE\" ASC) T\n",
    "WHERE \"AMOUNT_IN_USD\" >10;\n",
    "```"
   ]
  },
  {
   "cell_type": "markdown",
   "metadata": {},
   "source": [
    "The query is showing additional columns as a proof that first transaction was made above $10"
   ]
  },
  {
   "attachments": {},
   "cell_type": "markdown",
   "metadata": {},
   "source": [
    "<img src=\"Task2.png\" width=\"800\" />"
   ]
  },
  {
   "cell_type": "markdown",
   "metadata": {},
   "source": [
    "### Other solution using Python and pandas library\n",
    "___"
   ]
  },
  {
   "cell_type": "code",
   "execution_count": 1,
   "metadata": {},
   "outputs": [],
   "source": [
    "#importing pandas library\n",
    "import pandas as pd"
   ]
  },
  {
   "cell_type": "code",
   "execution_count": 2,
   "metadata": {},
   "outputs": [],
   "source": [
    "#loading all csv files using pandas\n",
    "currency_details = pd.read_csv('./currency_details.csv')\n",
    "fx_rates = pd.read_csv('./fx_rates.csv')\n",
    "transactions = pd.read_csv('./transactions.csv',index_col=0)"
   ]
  },
  {
   "cell_type": "code",
   "execution_count": 3,
   "metadata": {},
   "outputs": [],
   "source": [
    "#Merging fx_rates and currency_details tables\n",
    "fx_rates_exponent = pd.merge(fx_rates, currency_details, how='inner', left_on=\"ccy\", right_on='currency')"
   ]
  },
  {
   "cell_type": "code",
   "execution_count": 4,
   "metadata": {},
   "outputs": [],
   "source": [
    "#taking ex_rate for USD vs other currencies and dropping out unused columns\n",
    "rates_in_usd = fx_rates_exponent[fx_rates_exponent['base_ccy']=='USD'].drop(['currency','iso_code','is_crypto','base_ccy'],axis=1)\n",
    "\n",
    "#Merging transactions and rates_in_usd tables\n",
    "merged_trans = pd.merge(transactions, rates_in_usd, how='inner', left_on='CURRENCY', right_on='ccy')\n",
    "\n",
    "#Creating new column \"Amount in USD\" and applying function Amount * ex_rate / 10**exponent\n",
    "merged_trans['Amount_in_USD'] = merged_trans['AMOUNT']*merged_trans['rate']/10**merged_trans['exponent']\n",
    "\n",
    "#Sorting data by status Completed and by Card Payment\n",
    "merged_trans = merged_trans[(merged_trans['STATE'] ==\"COMPLETED\") & (merged_trans['TYPE'] == 'CARD_PAYMENT')]\n"
   ]
  },
  {
   "cell_type": "code",
   "execution_count": null,
   "metadata": {},
   "outputs": [],
   "source": [
    "merged_trans = merged_trans.sort_values(by = ['USER_ID','CREATED_DATE'],ascending=True ).drop_duplicates(subset = 'USER_ID', keep='first')\n",
    "users_with_10USD_trans = merged_trans[merged_trans['Amount_in_USD']>10]\n"
   ]
  },
  {
   "cell_type": "code",
   "execution_count": null,
   "metadata": {},
   "outputs": [],
   "source": [
    "#Printing result of first 5 USER_ID of customers with first successful Card transaction over $10\n",
    "users_with_10USD_trans.USER_ID.head(5)"
   ]
  },
  {
   "cell_type": "markdown",
   "metadata": {},
   "source": [
    "## To save results into csv file use comand below"
   ]
  },
  {
   "cell_type": "code",
   "execution_count": null,
   "metadata": {},
   "outputs": [],
   "source": [
    "#Saving results into csv file\n",
    "users_with_10USD_trans['USER_ID'].to_csv('./users_with_10USD_as_first_transaction.csv',index=False, header='USER_ID')"
   ]
  },
  {
   "cell_type": "markdown",
   "metadata": {},
   "source": [
    "# TASK 3 - Fraudster Radar"
   ]
  },
  {
   "cell_type": "markdown",
   "metadata": {},
   "source": [
    "#### Find 5 likely fraudsters (not already found in fraudsters.csv!), provide their user_ids, and explain how you found them and why they are likely fraudsters. Use diagrams, illustrations, etc. Show your work! (25 points)\n",
    "_(Note: show your work! We are looking for data-driven techniques. If you use Excel, provide the working file. If you use Python, send us a Jupyter notebook, etc.)_"
   ]
  },
  {
   "cell_type": "code",
   "execution_count": null,
   "metadata": {},
   "outputs": [],
   "source": [
    "#importing pandas library\n",
    "import pandas as pd\n",
    "import numpy as np\n",
    "from sklearn import tree\n",
    "from tqdm import tqdm\n",
    "import dateutil.parser\n"
   ]
  },
  {
   "cell_type": "code",
   "execution_count": null,
   "metadata": {},
   "outputs": [],
   "source": [
    "#loading all csv files using pandas\n",
    "currency_details = pd.read_csv('./currency_details.csv')\n",
    "fx_rates = pd.read_csv('./fx_rates.csv')\n",
    "transactions = pd.read_csv('./transactions.csv',index_col=0)\n",
    "users = pd.read_csv('./users.csv',index_col=0)\n",
    "fraudsters = pd.read_csv('./fraudsters.csv',index_col=0)\n",
    "countries = pd.read_csv('./countries.csv',index_col=0)"
   ]
  },
  {
   "cell_type": "code",
   "execution_count": null,
   "metadata": {},
   "outputs": [],
   "source": [
    "#Adding to users table information about known fraudsters\n",
    "users[\"Fraudster\"] = users['ID'].isin( fraudsters['user_id'])"
   ]
  },
  {
   "cell_type": "code",
   "execution_count": null,
   "metadata": {},
   "outputs": [],
   "source": [
    "# fraudsters_details = users[users[\"Fraudster\"]==True]"
   ]
  },
  {
   "cell_type": "code",
   "execution_count": null,
   "metadata": {},
   "outputs": [],
   "source": [
    "#Merging transactions and rates_in_usd tables\n",
    "fraudsters_trans = pd.merge(transactions, users, how='inner',left_on=\"USER_ID\", right_on='ID') "
   ]
  },
  {
   "cell_type": "code",
   "execution_count": null,
   "metadata": {},
   "outputs": [],
   "source": [
    "fraudsters_trans.sort_values(by = ['USER_ID','CREATED_DATE_x'],ascending=True )\n"
   ]
  },
  {
   "cell_type": "code",
   "execution_count": null,
   "metadata": {},
   "outputs": [],
   "source": [
    "fraudsters_trans[fraudsters_trans['USER_ID'] ==\"4ee8690a-ebf7-435b-9fe2-103e8f83edc6\"]"
   ]
  },
  {
   "cell_type": "markdown",
   "metadata": {},
   "source": [
    "#ATM pattern\n",
    "topup and then withdrawals\n"
   ]
  },
  {
   "cell_type": "code",
   "execution_count": null,
   "metadata": {},
   "outputs": [],
   "source": [
    "fraudsters_trans['Fraudster'] = fraudsters_trans['Fraudster'].replace(False, 0)\n",
    "fraudsters_trans['Fraudster'] = fraudsters_trans['Fraudster'].replace(True, 1)\n"
   ]
  },
  {
   "cell_type": "code",
   "execution_count": null,
   "metadata": {},
   "outputs": [],
   "source": [
    "list_for_converting = [\"CURRENCY\",\"STATE_x\", \"MERCHANT_CATEGORY\", \"MERCHANT_COUNTRY\",\"ENTRY_METHOD\", \"TYPE\", \"SOURCE\",\"KYC\", \"BIRTH_YEAR\", \"COUNTRY\", \"STATE_y\", \"PHONE_COUNTRY\"]\n",
    "\n",
    "# for conv in tqdm(list_for_converting):\n",
    "\n",
    "for conv in tqdm(list_for_converting):\n",
    "    hash_words = {word: hash(word) for word in fraudsters_trans[conv]}\n",
    "    for i in hash_words:\n",
    "        fraudsters_trans[conv] = fraudsters_trans[conv].replace(i, hash_words[i])\n",
    "        \n",
    "        "
   ]
  },
  {
   "cell_type": "code",
   "execution_count": null,
   "metadata": {},
   "outputs": [],
   "source": [
    "mid_pos = round(fraudsters_trans['Fraudster'].size/1.5)\n",
    "df_train = fraudsters_trans.iloc[0:mid_pos]\n",
    "df_test = fraudsters_trans.iloc[mid_pos:]\n"
   ]
  },
  {
   "cell_type": "code",
   "execution_count": null,
   "metadata": {},
   "outputs": [],
   "source": []
  },
  {
   "cell_type": "code",
   "execution_count": null,
   "metadata": {},
   "outputs": [],
   "source": [
    "# Create the target and features numpy arrays: target, features_one\n",
    "target = df_train[\"Fraudster\"].values\n",
    "features_one = df_train[[\"CURRENCY\", \"AMOUNT\", \"STATE_x\", \"MERCHANT_CATEGORY\", \"MERCHANT_COUNTRY\",\"ENTRY_METHOD\", \"TYPE\", \"SOURCE\", \"FAILED_SIGN_IN_ATTEMPTS\", \"KYC\", \"BIRTH_YEAR\", \"COUNTRY\", \"STATE_y\", \"PHONE_COUNTRY\", \"HAS_EMAIL\", \"Fraudster\"]].values\n",
    "\n",
    "\n",
    "\n"
   ]
  },
  {
   "cell_type": "code",
   "execution_count": null,
   "metadata": {},
   "outputs": [],
   "source": [
    "# Fit your first decision tree: my_tree_one\n",
    "my_tree_one = tree.DecisionTreeClassifier()\n",
    "my_tree_one = my_tree_one.fit(features_one, target)\n",
    "\n",
    "# Look at the importance and score of the included features\n",
    "print(my_tree_one.feature_importances_)\n",
    "print(my_tree_one.score(features_one, target))"
   ]
  },
  {
   "cell_type": "code",
   "execution_count": null,
   "metadata": {},
   "outputs": [],
   "source": [
    "\n",
    "# Extract the features from the test set: Pclass, Sex, Age, and Fare.\n",
    "test_features = df_test[[\"CURRENCY\", \"AMOUNT\", \"STATE_x\", \"MERCHANT_CATEGORY\", \"MERCHANT_COUNTRY\",\"ENTRY_METHOD\", \"TYPE\", \"SOURCE\", \"FAILED_SIGN_IN_ATTEMPTS\", \"KYC\", \"BIRTH_YEAR\", \"COUNTRY\", \"STATE_y\", \"PHONE_COUNTRY\", \"HAS_EMAIL\", \"Fraudster\"]].values\n",
    "\n",
    "# Make your prediction using the test set and print them.\n",
    "my_prediction = my_tree_one.predict(test_features)\n",
    "print(my_prediction)\n",
    "\n",
    "# Create a data frame with two columns: PassengerId & Survived. Survived contains your predictions\n",
    "# Fraudster_ID =np.array(test[\"Fraudster_ID\"]).astype(int)\n",
    "my_solution = pd.DataFrame({\"USER_ID\":df_test[\"USER_ID\"], \"my_prediction\":my_prediction, \"Fraudster\":df_test[\"Fraudster\"]} )\n",
    "print(my_solution)\n",
    "\n",
    "\n",
    "\n",
    "# Write your solution to a csv file with the name my_solution.csv\n",
    "my_solution.to_csv(\"my_solution_one.csv\")"
   ]
  },
  {
   "cell_type": "code",
   "execution_count": null,
   "metadata": {},
   "outputs": [],
   "source": []
  },
  {
   "cell_type": "code",
   "execution_count": null,
   "metadata": {},
   "outputs": [],
   "source": []
  },
  {
   "cell_type": "code",
   "execution_count": null,
   "metadata": {},
   "outputs": [],
   "source": [
    "# df_train[\"Time_diff_between_transactions\"] = \n",
    "# df_train[\"CREATED_DATE_x\"].diff()"
   ]
  },
  {
   "cell_type": "code",
   "execution_count": null,
   "metadata": {},
   "outputs": [],
   "source": [
    "df_train.columns"
   ]
  },
  {
   "cell_type": "code",
   "execution_count": null,
   "metadata": {},
   "outputs": [],
   "source": [
    "datetime.isoformat"
   ]
  },
  {
   "cell_type": "code",
   "execution_count": null,
   "metadata": {},
   "outputs": [],
   "source": [
    "df_train.head()"
   ]
  },
  {
   "cell_type": "code",
   "execution_count": null,
   "metadata": {},
   "outputs": [],
   "source": [
    "\n",
    "yourdate = dateutil.parser.parse(datestring)"
   ]
  },
  {
   "cell_type": "code",
   "execution_count": null,
   "metadata": {},
   "outputs": [],
   "source": []
  },
  {
   "cell_type": "code",
   "execution_count": null,
   "metadata": {},
   "outputs": [],
   "source": []
  },
  {
   "cell_type": "markdown",
   "metadata": {},
   "source": [
    "# TASK 4 - Wide-open Analysis"
   ]
  },
  {
   "cell_type": "markdown",
   "metadata": {},
   "source": [
    "#### The MLRO is asking for some information about account activity for their annual report. Explore the transactional data. Provide a histogram showing the turnover per account (inbound funds + outbound funds only). Don’t forget to handle for different currencies! (10 points)"
   ]
  },
  {
   "cell_type": "code",
   "execution_count": null,
   "metadata": {},
   "outputs": [],
   "source": [
    "#importing pandas library\n",
    "import pandas as pd\n",
    "import numpy as np\n",
    "from sklearn import tree\n",
    "from tqdm import tqdm\n",
    "import dateutil.parser\n",
    "\n",
    "\n",
    "#loading all csv files using pandas\n",
    "currency_details = pd.read_csv('./currency_details.csv')\n",
    "fx_rates = pd.read_csv('./fx_rates.csv')\n",
    "transactions = pd.read_csv('./transactions.csv',index_col=0)\n",
    "users = pd.read_csv('./users.csv',index_col=0)\n",
    "fraudsters = pd.read_csv('./fraudsters.csv',index_col=0)\n",
    "countries = pd.read_csv('./countries.csv',index_col=0)"
   ]
  },
  {
   "cell_type": "code",
   "execution_count": null,
   "metadata": {},
   "outputs": [],
   "source": [
    "#Adding to users table information about known fraudsters\n",
    "users[\"Fraudster\"] = users['ID'].isin( fraudsters['user_id'])\n",
    "\n",
    "#Merging transactions and rates_in_usd tables\n",
    "df_data = pd.merge(transactions, users, how='inner',left_on=\"USER_ID\", right_on='ID') "
   ]
  },
  {
   "cell_type": "code",
   "execution_count": null,
   "metadata": {},
   "outputs": [],
   "source": [
    "fx_rates = pd.merge(fx_rates,currency_details, how='inner',left_on=\"ccy\", right_on='currency').drop(labels=['currency','iso_code','is_crypto'],axis=1)\n"
   ]
  },
  {
   "cell_type": "code",
   "execution_count": null,
   "metadata": {},
   "outputs": [],
   "source": [
    "#Creating new column \"Amount in USD\" and applying function Amount * ex_rate / 10**exponent\n",
    "rates_in_usd = fx_rates[fx_rates['base_ccy']=='USD']\n",
    "df_data = pd.merge(df_data,rates_in_usd, how='inner',left_on=\"CURRENCY\", right_on='ccy')\n",
    "df_data['Amount_in_USD'] = (df_data['AMOUNT']*df_data['rate']/10**df_data['exponent'])\n",
    "df_data = df_data.drop(labels=['base_ccy','rate','ccy','exponent'],axis=1)"
   ]
  },
  {
   "cell_type": "code",
   "execution_count": null,
   "metadata": {},
   "outputs": [],
   "source": [
    "#Creating new column \"Amount in EUR\" and applying function Amount * ex_rate / 10**exponent\n",
    "rates_in_eur = fx_rates[fx_rates['base_ccy']=='USD']\n",
    "df_data = pd.merge(df_data,rates_in_eur, how='inner',left_on=\"CURRENCY\", right_on='ccy')\n",
    "df_data['Amount_in_EUR'] = (df_data['AMOUNT']*df_data['rate']/10**df_data['exponent'])\n",
    "df_data = df_data.drop(labels=['base_ccy','rate','ccy','exponent'],axis=1)"
   ]
  },
  {
   "cell_type": "code",
   "execution_count": null,
   "metadata": {},
   "outputs": [],
   "source": [
    "#Creating new column \"Amount in GBP\" and applying function Amount * ex_rate / 10**exponent\n",
    "rates_in_gbp = fx_rates[fx_rates['base_ccy']=='GBP']\n",
    "df_data = pd.merge(df_data,rates_in_gbp, how='inner',left_on=\"CURRENCY\", right_on='ccy')\n",
    "df_data['Amount_in_GBP'] = (df_data['AMOUNT']*df_data['rate']/10**df_data['exponent'])\n",
    "df_data = df_data.drop(labels=['base_ccy','rate','ccy','exponent'],axis=1)"
   ]
  },
  {
   "cell_type": "code",
   "execution_count": null,
   "metadata": {},
   "outputs": [],
   "source": [
    "df_data = df_data.drop(labels=['TERMS_VERSION','HAS_EMAIL','ID_y','PHONE_COUNTRY','FAILED_SIGN_IN_ATTEMPTS'],axis=1)\n"
   ]
  },
  {
   "cell_type": "code",
   "execution_count": null,
   "metadata": {},
   "outputs": [],
   "source": []
  },
  {
   "cell_type": "code",
   "execution_count": null,
   "metadata": {},
   "outputs": [],
   "source": [
    "Provide a histogram showing the turnover per account (inbound funds + outbound funds only). \n",
    "Don’t forget to handle for different currencies!\n",
    "\n",
    "hist\n",
    "\n"
   ]
  },
  {
   "cell_type": "code",
   "execution_count": null,
   "metadata": {},
   "outputs": [],
   "source": [
    "df_data.shape"
   ]
  },
  {
   "cell_type": "code",
   "execution_count": null,
   "metadata": {},
   "outputs": [],
   "source": []
  }
 ],
 "metadata": {
  "kernelspec": {
   "display_name": "Python 3",
   "language": "python",
   "name": "python3"
  },
  "language_info": {
   "codemirror_mode": {
    "name": "ipython",
    "version": 3
   },
   "file_extension": ".py",
   "mimetype": "text/x-python",
   "name": "python",
   "nbconvert_exporter": "python",
   "pygments_lexer": "ipython3",
   "version": "3.6.5"
  }
 },
 "nbformat": 4,
 "nbformat_minor": 2
}
